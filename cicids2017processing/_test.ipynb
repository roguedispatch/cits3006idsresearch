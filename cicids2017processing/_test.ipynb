{
 "cells": [
  {
   "cell_type": "code",
   "execution_count": null,
   "metadata": {},
   "outputs": [],
   "source": [
    "import pandas as pd\n",
    "import numpy as np"
   ]
  },
  {
   "cell_type": "markdown",
   "metadata": {},
   "source": [
    "# Flows"
   ]
  },
  {
   "cell_type": "code",
   "execution_count": null,
   "metadata": {},
   "outputs": [],
   "source": [
    "df_flows = pd.read_csv(\"/Users/larryhh/Documents/PhD/IDS/datasets/Friday-WorkingHours-Full_collapsed.csv\")\n",
    "df_flows"
   ]
  },
  {
   "cell_type": "code",
   "execution_count": null,
   "metadata": {},
   "outputs": [],
   "source": [
    "def standardize_column_names(df):\n",
    "  df.columns = (df.columns.str.strip()\n",
    "                .str.lower()\n",
    "                .str.replace(' ', '_', regex=True)\n",
    "                .str.replace('(', '', regex=False)\n",
    "                .str.replace(')', '', regex=False))\n",
    "  return df\n",
    "\n",
    "df_flows = standardize_column_names(df_flows)"
   ]
  },
  {
   "cell_type": "code",
   "execution_count": null,
   "metadata": {},
   "outputs": [],
   "source": [
    "df_flows.head()"
   ]
  },
  {
   "cell_type": "markdown",
   "metadata": {},
   "source": [
    "# PCAPs"
   ]
  },
  {
   "cell_type": "code",
   "execution_count": null,
   "metadata": {},
   "outputs": [],
   "source": [
    "# python cits3006idsresearch/cicids2017processing/extractor.py -i /Users/larryhh/Documents/PhD/IDS/datasets/Friday-WorkingHours.pcap -o datasets/kitsune_features.tsv"
   ]
  },
  {
   "cell_type": "code",
   "execution_count": null,
   "metadata": {},
   "outputs": [],
   "source": [
    "# df_pcaps = pd.read_csv(\"../../datasets/kitsune_features_mirai.tsv\", sep='\\t')\n",
    "# df_pcaps\n",
    "\n",
    "df_pcaps = pd.read_csv(\"../../datasets/kitsune_features_cicids17friday.tsv\", sep='\\t')\n",
    "df_pcaps\n"
   ]
  },
  {
   "cell_type": "markdown",
   "metadata": {},
   "source": [
    "# Labelled PCAPs with Flow Mapping"
   ]
  },
  {
   "cell_type": "code",
   "execution_count": null,
   "metadata": {},
   "outputs": [],
   "source": [
    "df_flows.head()"
   ]
  },
  {
   "cell_type": "code",
   "execution_count": null,
   "metadata": {},
   "outputs": [],
   "source": [
    "df_pcaps.head()"
   ]
  },
  {
   "cell_type": "code",
   "execution_count": null,
   "metadata": {},
   "outputs": [],
   "source": []
  }
 ],
 "metadata": {
  "kernelspec": {
   "display_name": "Python 3",
   "language": "python",
   "name": "python3"
  },
  "language_info": {
   "codemirror_mode": {
    "name": "ipython",
    "version": 3
   },
   "file_extension": ".py",
   "mimetype": "text/x-python",
   "name": "python",
   "nbconvert_exporter": "python",
   "pygments_lexer": "ipython3",
   "version": "3.12.0"
  }
 },
 "nbformat": 4,
 "nbformat_minor": 2
}
